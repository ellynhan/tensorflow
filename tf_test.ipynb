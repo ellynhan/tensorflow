{
 "cells": [
  {
   "cell_type": "code",
   "execution_count": 4,
   "metadata": {},
   "outputs": [
    {
     "name": "stdout",
     "output_type": "stream",
     "text": [
      "0 4611521000.0 [10351.217] [2034.8237]\n",
      "500 8686181.0 [25538.404] [1945.81]\n",
      "1000 8633782.0 [25627.637] [1503.9441]\n",
      "1500 8632679.0 [25640.639] [1439.5562]\n",
      "2000 8632657.0 [25642.535] [1430.17]\n",
      "2500 8632651.0 [25642.807] [1428.8176]\n",
      "3000 8632651.0 [25642.844] [1428.6326]\n",
      "3500 8632656.0 [25642.848] [1428.6133]\n",
      "4000 8632656.0 [25642.848] [1428.6133]\n",
      "4500 8632656.0 [25642.848] [1428.6133]\n",
      "5000 8632656.0 [25642.848] [1428.6133]\n",
      "[206571.39]\n"
     ]
    }
   ],
   "source": [
    "import tensorflow.compat.v1 as tf\n",
    "tf.disable_v2_behavior() \n",
    "#import tensorflow as tf\n",
    "\n",
    "xData = [1,2,3,4,5,6,7]\n",
    "yData=[25000,55000,75000,110000,128000,155000,180000]\n",
    "W=tf.Variable(tf.random_uniform([1],-100,100))\n",
    "b=tf.Variable(tf.random_uniform([1],-100,100))\n",
    "X=tf.placeholder(tf.float32)\n",
    "Y=tf.placeholder(tf.float32)\n",
    "H = W * X + b\n",
    "cost=tf.reduce_mean(tf.square(H-Y))\n",
    "a=tf.Variable(0.01)\n",
    "optimizer=tf.train.GradientDescentOptimizer(a)\n",
    "train=optimizer.minimize(cost)\n",
    "init=tf.global_variables_initializer()\n",
    "sess=tf.Session()\n",
    "sess.run(init)\n",
    "for i in range(5001):\n",
    "    sess.run(train, feed_dict={X:xData, Y:yData})\n",
    "    if i % 500 == 0:\n",
    "        print (i, sess.run(cost, feed_dict={X: xData, Y:yData}), sess.run(W), sess.run(b))\n",
    "print (sess.run(H, feed_dict={X: [8]}))\n"
   ]
  },
  {
   "cell_type": "code",
   "execution_count": null,
   "metadata": {},
   "outputs": [],
   "source": []
  },
  {
   "cell_type": "code",
   "execution_count": null,
   "metadata": {},
   "outputs": [],
   "source": []
  }
 ],
 "metadata": {
  "kernelspec": {
   "display_name": "Python 3",
   "language": "python",
   "name": "python3"
  },
  "language_info": {
   "codemirror_mode": {
    "name": "ipython",
    "version": 3
   },
   "file_extension": ".py",
   "mimetype": "text/x-python",
   "name": "python",
   "nbconvert_exporter": "python",
   "pygments_lexer": "ipython3",
   "version": "3.7.6"
  }
 },
 "nbformat": 4,
 "nbformat_minor": 4
}
